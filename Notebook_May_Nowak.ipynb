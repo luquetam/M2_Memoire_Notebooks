{
 "cells": [
  {
   "cell_type": "markdown",
   "id": "9a1e7496",
   "metadata": {},
   "source": [
    "# Notebook sur l'article de May et Nowak\n",
    "Le jeu avec des paramètres personnalisables se trouve à la fin du notebook.  \n",
    "\n",
    "Valeur des différentes couleurs :\n",
    "- Noir : 0 = C ( ou C->C )\n",
    "- Jaune : 1 = D ( ou D->D )\n",
    "- Orange : 2 = C->D\n",
    "- Violet : 3 = D->C"
   ]
  },
  {
   "cell_type": "code",
   "execution_count": 1,
   "id": "d7cf310e",
   "metadata": {},
   "outputs": [],
   "source": [
    "import matplotlib.pyplot as plt\n",
    "import numpy as np\n",
    "import copy"
   ]
  },
  {
   "cell_type": "code",
   "execution_count": 2,
   "id": "35137309",
   "metadata": {},
   "outputs": [],
   "source": [
    "colors = ['black', 'lightyellow', 'orange', 'purple']"
   ]
  },
  {
   "cell_type": "code",
   "execution_count": 3,
   "id": "da48ce76",
   "metadata": {},
   "outputs": [
    {
     "data": {
      "text/plain": [
       "Text(0.5, 1.0, 'Couleurs des différentes stratégies')"
      ]
     },
     "execution_count": 3,
     "metadata": {},
     "output_type": "execute_result"
    },
    {
     "data": {
      "image/png": "[encoded data removed]",
      "text/plain": [
       "<Figure size 200x200 with 1 Axes>"
      ]
     },
     "metadata": {},
     "output_type": "display_data"
    }
   ],
   "source": [
    "# Illustration des couleurs des différentes stratégies\n",
    "\n",
    "griid = [[0,1,2,3],[0,1,2,3]]\n",
    "\n",
    "[m,n] = np.shape(griid)\n",
    "\n",
    "color_matrix = np.zeros((m, n, 3), dtype=np.float32)\n",
    "\n",
    "for i in range(m):\n",
    "    for j in range(n):\n",
    "        color_matrix[i][j] = plt.matplotlib.colors.to_rgb(colors[griid[i][j]])\n",
    "\n",
    "plt.figure(figsize=(2, 2))\n",
    "labels = ['C-C', 'D-D', 'C-D', 'D-C']\n",
    "plt.imshow(color_matrix, alpha=0.8)\n",
    "plt.xticks(np.arange(n), labels)\n",
    "plt.yticks(np.arange(m), [])\n",
    "plt.tick_params(left=False)\n",
    "plt.title(\"Couleurs des différentes stratégies\")"
   ]
  },
  {
   "cell_type": "markdown",
   "id": "bdf4f7c6",
   "metadata": {},
   "source": [
    "### Affichage de la matrice des joueurs, en couleur"
   ]
  },
  {
   "cell_type": "code",
   "execution_count": 4,
   "id": "221df145",
   "metadata": {},
   "outputs": [],
   "source": [
    "def draw(gridToDraw, drawSize, title) :\n",
    "    \"\"\"\n",
    "    Dessin de la grille donnée.\n",
    "    \"\"\"\n",
    "    coloredGridToDraw = getGridColors(gridToDraw)\n",
    "\n",
    "    plt.figure(figsize=(drawSize, drawSize))\n",
    "    plt.tick_params(bottom=False, left=False, labelbottom=False, labelleft=False)\n",
    "    plt.imshow(coloredGridToDraw, alpha=0.8)\n",
    "    plt.title(title)"
   ]
  },
  {
   "cell_type": "code",
   "execution_count": 5,
   "id": "60bf4088",
   "metadata": {},
   "outputs": [],
   "source": [
    "def getGridColors(gridToDraw) :\n",
    "    \"\"\"\n",
    "    Mise en place des couleurs à dessiner pour la grille donnée.\n",
    "    \"\"\"\n",
    "    [m,n] = np.shape(gridToDraw)\n",
    "    coloredGrid = np.zeros((m, n, 3), dtype=np.float32)\n",
    "    \n",
    "    for i in range(m):\n",
    "        for j in range(n):\n",
    "            coloredGrid[i][j] = plt.matplotlib.colors.to_rgb(colors[gridToDraw[i][j]])\n",
    "            \n",
    "    return coloredGrid"
   ]
  },
  {
   "cell_type": "markdown",
   "id": "04839a87",
   "metadata": {},
   "source": [
    "### Initialisation des grilles (Joueurs et Scores)\n",
    "\n",
    "Il existe deux grilles, une contenant les joueurs (représentés par leur stratégie) et une de score, permettant de calculer la future stratégie de chaque joueur."
   ]
  },
  {
   "cell_type": "code",
   "execution_count": 6,
   "id": "5c3a0dbc",
   "metadata": {},
   "outputs": [],
   "source": [
    "def initializeGrid(gridSize, kaleidoscope) :\n",
    "    \"\"\"\n",
    "    Initialisation des joueurs sur la grille de jeu \n",
    "    dépendant d'une taille donnée. Les joueurs sont \n",
    "    placés avec un pourcentage de 90% pour les C.\n",
    "    \"\"\"\n",
    "    grid = []\n",
    "    line = []\n",
    "\n",
    "    for i in range(gridSize) :\n",
    "        line = []\n",
    "        for j in range(gridSize) :\n",
    "            if kaleidoscope == 1 :\n",
    "                cell = 0\n",
    "            else :\n",
    "                cell = np.random.choice(np.arange(0, 2), p=[0.9, 0.1])\n",
    "            line.append(cell)\n",
    "        grid.append(line)\n",
    "\n",
    "    if kaleidoscope == 1 :\n",
    "        halfSize = int((gridSize-1)/2)\n",
    "        grid[halfSize][halfSize] = 1\n",
    "    return grid"
   ]
  },
  {
   "cell_type": "code",
   "execution_count": 7,
   "id": "1abc6a35",
   "metadata": {},
   "outputs": [],
   "source": [
    "def initializeScoreGrid(gridSize) :\n",
    "    \"\"\"\n",
    "    Initialisation de la grille des scores à la taille donnée.\n",
    "    \"\"\"\n",
    "    scoreGrid = []\n",
    "    line = []\n",
    "    \n",
    "    for i in range(gridSize) :\n",
    "        line = []\n",
    "        for j in range(gridSize) :\n",
    "            line.append(0)\n",
    "        scoreGrid.append(line)\n",
    "    \n",
    "    return scoreGrid"
   ]
  },
  {
   "cell_type": "markdown",
   "id": "7fadfd95",
   "metadata": {},
   "source": [
    "### Confrontation des joueurs et application de leur nouvelle stratégie"
   ]
  },
  {
   "cell_type": "code",
   "execution_count": 8,
   "id": "21778221",
   "metadata": {},
   "outputs": [],
   "source": [
    "def confrontation(player, opponent) :\n",
    "    \"\"\"\n",
    "    Confrontation entre deux joueurs en appliquant la matrice des récompenses.\n",
    "    \"\"\"\n",
    "    if (player == 0 and (opponent == 0 or opponent == 3)) or (player == 3 and (opponent == 0 or opponent == 3)) :\n",
    "        return 1\n",
    "    elif (player == 1 and (opponent == 0 or opponent == 3)) or (player == 2 and (opponent == 0 or opponent == 3)) :\n",
    "        return b\n",
    "    return 0"
   ]
  },
  {
   "cell_type": "code",
   "execution_count": 9,
   "id": "80b17d5f",
   "metadata": {},
   "outputs": [],
   "source": [
    "def chooseNextStrategy(player, opponent) :\n",
    "    \"\"\"\n",
    "    Définition de la couleur que prend la case au tour suivant en fonction de sa valeur précédent et sa nouvelle valeur.\n",
    "    \"\"\"\n",
    "    if (player == 0 and (opponent == 0 or opponent == 3)) or (player == 3 and (opponent == 0 or opponent == 3)) :\n",
    "        return 0 # C-C\n",
    "    elif (player == 1 and (opponent == 1 or opponent == 2)) or (player == 2 and (opponent == 1 or opponent == 2)) :\n",
    "        return 1 # D-D\n",
    "    elif (player == 0 and (opponent == 1 or opponent == 2)) or (player == 3 and (opponent == 1 or opponent == 2)) :\n",
    "        return 2 # C-D\n",
    "    elif (player == 1 and (opponent == 0 or opponent == 3)) or (player == 2 and (opponent == 0 or opponent == 3)) :\n",
    "        return 3 # D-C\n",
    "    return -1"
   ]
  },
  {
   "cell_type": "markdown",
   "id": "842bf45c",
   "metadata": {},
   "source": [
    "### Création des différentes grilles (joueurs, scores, finies et infinies)"
   ]
  },
  {
   "cell_type": "code",
   "execution_count": 10,
   "id": "585cd567",
   "metadata": {},
   "outputs": [],
   "source": [
    "def createScoreGridInfinite(grid, gridSize) :\n",
    "    \"\"\"\n",
    "    Création de la grille des scores en parcourant toute la grille et, pour chaque joueur, \n",
    "    réaliser une confrontation avec ses 8 voisins ainsi que lui-même.\n",
    "    \n",
    "    Le plateau est infini. Le joueur le plus à gauche sera la voisin du joueur le plus à droite sur la même ligne\n",
    "    par exemple.\n",
    "    \"\"\"\n",
    "    scoreGrid = initializeScoreGrid(gridSize)\n",
    "\n",
    "    for i in range(gridSize):\n",
    "        for j in range(gridSize):\n",
    "            playerStrategy = grid[i][j]\n",
    "            for k in range(-1,2):\n",
    "                for l in range(-1,2):\n",
    "                    tmpLine = i + k\n",
    "                    tmpCol = j + l\n",
    "                    if i + k > len(grid) - 1:\n",
    "                        tmpLine = 0\n",
    "                    elif i + k < 0:\n",
    "                        tmpLine = len(grid) - 1 \n",
    "                    if j + l > len(grid[i]) - 1:\n",
    "                        tmpCol = 0\n",
    "                    elif j + l < 0:\n",
    "                        tmpCol = len(grid[i]) - 1\n",
    "                    scoreGrid[i][j] += confrontation(playerStrategy, grid[tmpLine][tmpCol])\n",
    "    return scoreGrid\n",
    "\n",
    "def createScoreGridFinite(grid, gridSize) :\n",
    "    \"\"\"\n",
    "    Création de la grille des scores en parcourant toute la grille et, pour chaque joueur, \n",
    "    réaliser une confrontation avec ses 8 voisins ainsi que lui-même.\n",
    "    \n",
    "    Le plateau est fini, un joueur au bord n'aura que 5 voisins et un dans un coin n'en aura que trois.\n",
    "    \"\"\"\n",
    "    scoreGrid = initializeScoreGrid(gridSize)\n",
    "\n",
    "    for i in range(gridSize):\n",
    "        for j in range(gridSize):\n",
    "            playerStrategy = grid[i][j]\n",
    "            for k in range(-1,2):\n",
    "                for l in range(-1,2):\n",
    "                    try :\n",
    "                        tmpLine = i + k\n",
    "                        tmpCol = j + l\n",
    "                        if tmpLine == -1 or tmpCol == -1 or tmpLine == gridSize or tmpCol == gridSize :\n",
    "                            raise IndexError\n",
    "                        scoreGrid[i][j] += confrontation(playerStrategy, grid[tmpLine][tmpCol])\n",
    "                    except IndexError :\n",
    "                        continue\n",
    "    return scoreGrid"
   ]
  },
  {
   "cell_type": "code",
   "execution_count": 11,
   "id": "74708c9b",
   "metadata": {},
   "outputs": [],
   "source": [
    "def createNewGridInfinite(grid, scoreGrid, gridSize) :\n",
    "    \"\"\"\n",
    "    Création de la grille du tour suivant en prenant en compte la grille des scores. Le joueur prend la stratégie \n",
    "    de son voisin ayant eu le score maximale.\n",
    "    \n",
    "    Le plateau est infini. Le joueur le plus à gauche sera la voisin du joueur le plus à droite sur la même ligne\n",
    "    par exemple.\n",
    "    \"\"\"\n",
    "    opponentScore = 0\n",
    "    mlist = list()\n",
    "    tmpGrid = initializeScoreGrid(gridSize)\n",
    "\n",
    "    for i in range(gridSize) :\n",
    "        for j in range(gridSize) :\n",
    "            mlist = list()\n",
    "            playerScore = scoreGrid[i][j]\n",
    "            for k in range(-1,2) :\n",
    "                for l in range(-1,2) :\n",
    "                    tmpLine = i + k\n",
    "                    tmpCol = j + l\n",
    "                    if i + k > len(grid) - 1 :\n",
    "                        tmpLine = 0\n",
    "                    elif i + k < 0:\n",
    "                        tmpLine = len(grid) - 1 \n",
    "                    if j + l > len(grid[i]) - 1 :\n",
    "                        tmpCol = 0\n",
    "                    elif j + l < 0 :\n",
    "                        tmpCol = len(grid[i]) - 1\n",
    "                    opponentScore = scoreGrid[tmpLine][tmpCol]\n",
    "                    mlist.append((tmpLine, tmpCol, opponentScore))\n",
    "            mmax = max(mlist, key=lambda truple:truple[2])\n",
    "            tmpGrid[i][j] = chooseNextStrategy(grid[i][j], grid[mmax[0]][mmax[1]])\n",
    "    return tmpGrid\n",
    "\n",
    "def createNewGridFinite(grid, scoreGrid, gridSize) :\n",
    "    \"\"\"\n",
    "    Création de la grille du tour suivant en prenant en compte la grille des scores. Le joueur prend la stratégie \n",
    "    de son voisin ayant eu le score maximale.\n",
    "    \n",
    "    Le plateau est fini, un joueur au bord n'aura que 5 voisins et un dans un coin n'en aura que trois.\n",
    "    \"\"\"\n",
    "    opponentScore = 0\n",
    "    mlist = list()\n",
    "    tmpGrid = initializeScoreGrid(gridSize)\n",
    "\n",
    "    for i in range(gridSize) :\n",
    "        for j in range(gridSize) :\n",
    "            mlist = list()\n",
    "            playerScore = scoreGrid[i][j]\n",
    "            for k in range(-1,2) :\n",
    "                for l in range(-1,2) :\n",
    "                    try :\n",
    "                        tmpLine = i + k\n",
    "                        tmpCol = j + l\n",
    "                        if tmpLine == -1 or tmpCol == -1 or tmpLine == gridSize or tmpCol == gridSize:\n",
    "                            raise IndexError\n",
    "                        opponentScore = scoreGrid[tmpLine][tmpCol]\n",
    "                        mlist.append((tmpLine, tmpCol, opponentScore))\n",
    "                    except IndexError :\n",
    "                        continue\n",
    "            mmax = max(mlist, key=lambda truple:truple[2])\n",
    "            tmpGrid[i][j] = chooseNextStrategy(grid[i][j], grid[mmax[0]][mmax[1]])\n",
    "    return tmpGrid"
   ]
  },
  {
   "cell_type": "markdown",
   "id": "e30bb539",
   "metadata": {},
   "source": [
    "### Déroulement du jeu"
   ]
  },
  {
   "cell_type": "code",
   "execution_count": 12,
   "id": "26ef2563",
   "metadata": {},
   "outputs": [],
   "source": [
    "def jeu(nbrTour, firstStep, drawSize, infinite, kaleidoscope) :\n",
    "    \"\"\"\n",
    "    Déroulement du jeu.\n",
    "    Initialisation de la grille initiale puis sur un nombre de tour donné, création de la grille de score puis création\n",
    "    de la grille du tour actuel et dessin de celle-ci.\n",
    "    \"\"\"\n",
    "    grid = []\n",
    "    scoreGrid = []\n",
    "    \n",
    "    grid = initializeGrid(size, kaleidoscope)\n",
    "    draw(grid, drawSize, \"Grille initiale\")\n",
    "    nbrTourTotal = nbrTour\n",
    "    \n",
    "    while(nbrTour) :\n",
    "        realStepNumber = nbrTourTotal - nbrTour + 1\n",
    "        \n",
    "        if (infinite == 0) :\n",
    "            scoreGrid = createScoreGridFinite(grid, size)\n",
    "            tmpGrid = createNewGridFinite(grid, scoreGrid, size)\n",
    "        elif (infinite == 1) :\n",
    "            scoreGrid = createScoreGridInfinite(grid, size)\n",
    "            tmpGrid = createNewGridInfinite(grid, scoreGrid, size)\n",
    "        grid = copy.deepcopy(tmpGrid)\n",
    "        if firstStep <= realStepNumber :\n",
    "            draw(grid, drawSize, \"Tour \" + str(realStepNumber))\n",
    "        nbrTour -= 1"
   ]
  },
  {
   "cell_type": "markdown",
   "id": "d30aeb17",
   "metadata": {},
   "source": [
    "## Lancement du jeu\n",
    "Penser à exécuter toutes les cellules précédentes avant de lancer celle ci-dessous.  \n",
    "Configurer les paramètres ci-dessous (ou laisser par défaut) avant d'exécuter la cellule."
   ]
  },
  {
   "cell_type": "code",
   "execution_count": 13,
   "id": "a767cc0a",
   "metadata": {
    "scrolled": false
   },
   "outputs": [
    {
     "data": {
      "image/png": "[encoded data removed]",
      "text/plain": [
       "<Figure size 800x800 with 1 Axes>"
      ]
     },
     "metadata": {},
     "output_type": "display_data"
    },
    {
     "data": {
      "image/png": "[encoded data removed]",
      "text/plain": [
       "<Figure size 800x800 with 1 Axes>"
      ]
     },
     "metadata": {},
     "output_type": "display_data"
    },
    {
     "data": {
      "image/png": "[encoded data removed]",
      "text/plain": [
       "<Figure size 800x800 with 1 Axes>"
      ]
     },
     "metadata": {},
     "output_type": "display_data"
    },
    {
     "data": {
      "image/png": "[encoded data removed]",
      "text/plain": [
       "<Figure size 800x800 with 1 Axes>"
      ]
     },
     "metadata": {},
     "output_type": "display_data"
    },
    {
     "data": {
      "image/png": "[encoded data removed]",
      "text/plain": [
       "<Figure size 800x800 with 1 Axes>"
      ]
     },
     "metadata": {},
     "output_type": "display_data"
    },
    {
     "data": {
      "image/png": "[encoded data removed]",
      "text/plain": [
       "<Figure size 800x800 with 1 Axes>"
      ]
     },
     "metadata": {},
     "output_type": "display_data"
    },
    {
     "data": {
      "image/png": "[encoded data removed]",
      "text/plain": [
       "<Figure size 800x800 with 1 Axes>"
      ]
     },
     "metadata": {},
     "output_type": "display_data"
    },
    {
     "data": {
      "image/png": "[encoded data removed]",
      "text/plain": [
       "<Figure size 800x800 with 1 Axes>"
      ]
     },
     "metadata": {},
     "output_type": "display_data"
    },
    {
     "data": {
      "image/png": "[encoded data removed]",
      "text/plain": [
       "<Figure size 800x800 with 1 Axes>"
      ]
     },
     "metadata": {},
     "output_type": "display_data"
    },
    {
     "data": {
      "image/png": "[encoded data removed]",
      "text/plain": [
       "<Figure size 800x800 with 1 Axes>"
      ]
     },
     "metadata": {},
     "output_type": "display_data"
    },
    {
     "data": {
      "image/png": "[encoded data removed]",
      "text/plain": [
       "<Figure size 800x800 with 1 Axes>"
      ]
     },
     "metadata": {},
     "output_type": "display_data"
    }
   ],
   "source": [
    "# Définir les paramètres du jeu \n",
    "\n",
    "# Définir le nombre de tours\n",
    "nbrTour = 10\n",
    "\n",
    "# Définir le tour où commence l'affichage\n",
    "firstStep = 0\n",
    "\n",
    "# Définir la taille de la grille \n",
    "size = 49\n",
    "\n",
    "# Définir la taille du dessin\n",
    "drawSize = 8\n",
    "\n",
    "# Définir la valeur de la récompense b\n",
    "b = 1.85\n",
    "\n",
    "# Définir si on veut que le plateau de jeu soit fini ou infini (si on prend en compte ou non les bords)\n",
    "# 0 = fini\n",
    "# 1 = infini\n",
    "infinite = 0\n",
    "\n",
    "# Définir si on veut activer le mode kaléidoscope ou non\n",
    "# 0 = Désactivé\n",
    "# 1 = Activé\n",
    "kaleidoscope = 1\n",
    "\n",
    "jeu(nbrTour, firstStep, drawSize, infinite, kaleidoscope)"
   ]
  }
 ],
 "metadata": {
  "kernelspec": {
   "display_name": "Python 3 (ipykernel)",
   "language": "python",
   "name": "python3"
  },
  "language_info": {
   "codemirror_mode": {
    "name": "ipython",
    "version": 3
   },
   "file_extension": ".py",
   "mimetype": "text/x-python",
   "name": "python",
   "nbconvert_exporter": "python",
   "pygments_lexer": "ipython3",
   "version": "3.9.13"
  }
 },
 "nbformat": 4,
 "nbformat_minor": 5
}
